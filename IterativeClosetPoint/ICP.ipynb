{
 "cells": [
  {
   "cell_type": "code",
   "execution_count": 1,
   "metadata": {},
   "outputs": [],
   "source": [
    "import numpy as np"
   ]
  },
  {
   "cell_type": "code",
   "execution_count": 2,
   "metadata": {},
   "outputs": [],
   "source": [
    "def EstimateCorrespondences(X,Y,t,R,d_max):\n",
    "    \n",
    "    C = np.empty((0,2), dtype=int)\n",
    "    # Transform the points\n",
    "    transposed_x = np.dot(X,R) + t\n",
    "    # Find the indexes of the least-squared sense. \n",
    "    for i in range(transposed_x.shape[0]):\n",
    "        norm = np.linalg.norm(Y-transposed_x[i], axis=1)\n",
    "        y = np.argmin(norm)\n",
    "        if norm[y] < d_max :\n",
    "            C = np.vstack((C, [i,y]))\n",
    "    return C"
   ]
  },
  {
   "cell_type": "code",
   "execution_count": 3,
   "metadata": {},
   "outputs": [],
   "source": [
    "def ComputeOptimalRigidRegistration(X,Y,C) :\n",
    "\n",
    "    # Calculate the point cloud centroid of X and Y\n",
    "    x_centroid = np.mean(X[C[:,0]], axis=0)\n",
    "    y_centroid = np.mean(Y[C[:,1]], axis=0)\n",
    "\n",
    "    # Calculate the deviation of X and Y from the centroid\n",
    "    x_deviation = X[C[:,0]] - x_centroid\n",
    "    y_deviation = Y[C[:,1]] - y_centroid\n",
    "\n",
    "    # Calculate the covariance matrix\n",
    "    W = np.dot(x_deviation.T, y_deviation)\n",
    "\n",
    "    # Calculate the SVD\n",
    "    u, s , vh = np.linalg.svd(W)\n",
    "\n",
    "\n",
    "    # Construct the optimal rotation :\n",
    "    Rot = np.dot(u,vh)\n",
    "\n",
    "    # Optimal translation :\n",
    "    trans =  y_centroid - np.dot(x_centroid,Rot) \n",
    "\n",
    "    return Rot, trans"
   ]
  },
  {
   "cell_type": "code",
   "execution_count": 4,
   "metadata": {},
   "outputs": [],
   "source": [
    "def ICP_alg(X , Y , to, Ro, d_max, max_iter):\n",
    "\n",
    "    iter = 0\n",
    "    while iter != max_iter : \n",
    "        C = EstimateCorrespondences(X,Y,to,Ro,d_max)\n",
    "        R , t = ComputeOptimalRigidRegistration(X,Y,C)\n",
    "        to = t\n",
    "        Ro = R\n",
    "        iter += 1\n",
    "    return t , R , C\n"
   ]
  },
  {
   "cell_type": "code",
   "execution_count": 5,
   "metadata": {},
   "outputs": [],
   "source": [
    "if __name__ == \"__main__\":\n",
    "    pcl_X = np.loadtxt(\"pclX.txt\", dtype = float)\n",
    "    pcl_Y = np.loadtxt(\"pclY.txt\", dtype = float)\n",
    "    \n",
    "\n",
    "    t = np.zeros((1,3))\n",
    "\n",
    "    R = np.array([[1,0,0],[0,1,0],[0,0,1]])\n",
    "    d_max = 0.25\n",
    "    iter = 30\n",
    "    \n",
    "    t , R, C = ICP_alg(pcl_X,pcl_Y,t,R,d_max,iter)\n"
   ]
  },
  {
   "cell_type": "code",
   "execution_count": 6,
   "metadata": {},
   "outputs": [
    {
     "name": "stdout",
     "output_type": "stream",
     "text": [
      "[[ 0.95126601  0.22323628  0.21274056]\n",
      " [-0.15043058  0.9381636  -0.31180074]\n",
      " [-0.26919069  0.26460276  0.92602471]]\n",
      "[ 0.49661487 -0.29392971  0.29645004]\n",
      "0.46043360699622676\n"
     ]
    }
   ],
   "source": [
    "print(R)\n",
    "print(t)\n",
    "trans = np.dot(pcl_X,R) + t\n",
    "\n",
    "\n",
    "s = 0\n",
    "s = np.mean(np.linalg.norm(pcl_Y - trans, axis=1)**2)\n",
    "RMSE = np.sqrt(s)\n",
    "print(RMSE)"
   ]
  },
  {
   "cell_type": "code",
   "execution_count": 7,
   "metadata": {},
   "outputs": [],
   "source": [
    "# Scatter plot of the points\n",
    "import matplotlib.pyplot as plt\n",
    "from mpl_toolkits.mplot3d import Axes3D\n",
    "\n",
    "%matplotlib qt\n",
    "\n",
    "fig = plt.figure()\n",
    "ax = fig.add_subplot(111, projection='3d')\n",
    "ax.scatter(pcl_X[:,0], pcl_X[:,1], pcl_X[:,2], c='b', marker='o', s = 0.8)\n",
    "ax.scatter(pcl_Y[:,0], pcl_Y[:,1], pcl_Y[:,2], c='g', marker='o', s = 0.8)\n",
    "ax.scatter(trans[:,0], trans[:,1], trans[:,2], c='r', marker='o', s = 0.8)\n",
    "#Add the legend\n",
    "ax.legend(['X', 'Y', 'Transformed X'])\n",
    "ax.scatter\n",
    "plt.show()\n"
   ]
  },
  {
   "cell_type": "code",
   "execution_count": null,
   "metadata": {},
   "outputs": [],
   "source": []
  }
 ],
 "metadata": {
  "kernelspec": {
   "display_name": "Python 3.8.10 64-bit",
   "language": "python",
   "name": "python3"
  },
  "language_info": {
   "codemirror_mode": {
    "name": "ipython",
    "version": 3
   },
   "file_extension": ".py",
   "mimetype": "text/x-python",
   "name": "python",
   "nbconvert_exporter": "python",
   "pygments_lexer": "ipython3",
   "version": "3.8.10"
  },
  "orig_nbformat": 4,
  "vscode": {
   "interpreter": {
    "hash": "e7370f93d1d0cde622a1f8e1c04877d8463912d04d973331ad4851f04de6915a"
   }
  }
 },
 "nbformat": 4,
 "nbformat_minor": 2
}
